{
 "cells": [
  {
   "cell_type": "markdown",
   "metadata": {},
   "source": [
    "# Exercise #1"
   ]
  },
  {
   "cell_type": "markdown",
   "metadata": {},
   "source": [
    "## Exercise #1 \n",
    "\n",
    "One of the earliest forms of cryptography was the Caesar cipher, a form of substitution cipher in which each letter in the alphabet is shifted by a fixed number of positions (with wrapping). Caesar himself used a left shift of three (-3), but any shift can be used. For example, a Caesar cipher with a right shift of two (+2) would replace the letter 'A' with the letter 'C', the letter 'B' with the letter 'D', and so on, with the letters 'Y' and 'Z' being replaced with the letters 'A' and 'B', respectively. In such a scheme, the word 'ANALYTICS' would be encrypted as 'CPCNAVKEU'. \n",
    "\n",
    "Define a function shift_alpha that takes in an alphabet string (A) and a shift constant (shift, default value of 0), prints the original and shifted alphabet (each as a single string), and returns a translation dictionary that contains each original letter as the key and the encrypted letter as the value. Demonstrate the performance of your function on the upper case alphabet with a shift of 0, +12, and -3.\n",
    "\n",
    "Hint:\n",
    "\n",
    "In the string module, there are built-in string constants ascii_lowercase and ascii_uppercase that contains lower case letters (a-z) and upper case letters (A-Z) that you can use in your solution.\n",
    "\n",
    "## Exercise #2 \n",
    "\n",
    "Define a function encrypt that takes in a word and a shift (default value = 0), and returns a string containing the encrypted version of the word using a Caesar shift. The function should work properly on upper and lower case letters, and return any non-alphabetic characters as is. Demonstrate that your function works properly on the following list of (case-sensitive) words/phrases with a Caesar shift of +5:\n",
    "\n",
    "apple, Maryland, Route 66, LaTeX, twenty-first century\n",
    "\n",
    "## Exercise #3 \n",
    "\n",
    "Now suppose you receive an encrypted message. Write a function decrypt that takes in a message, and produces all possible translations of the message using a Caesar cipher. Report the decrypted message and the shift (in the range of [-12, 13]) on the following encrypted quotes from Greek philosophers:\n",
    "\n",
    "1. Aristotle: Swcnkva ku pqv cp cev, kv ku c jcdkv.\n",
    "\n",
    "2. Demosthenes: Dxlww zaazcefytetpd lcp zqepy esp mprtyytyr zq rcple pyepcactdpd.\n",
    "\n",
    "3. Hypatia: Fczy cm uh ohzifxgyhn, uhx nby zolnbyl qy nlupyf nby gily nlonb qy wuh wigjlybyhx. Ni ohxylmnuhx nby nbcham nbun uly un iol xiil cm nby vymn jlyjuluncih zil ohxylmnuhxcha nbimy nbun fcy vysihx."
   ]
  },
  {
   "cell_type": "code",
   "execution_count": 1,
   "metadata": {},
   "outputs": [],
   "source": [
    "import string                       \n",
    "def shift_alpha(mmm, shift=0):\n",
    "    A=list(string.ascii_uppercase)        #cast alphabet from string to a list \n",
    "    a=list(string.ascii_lowercase)\n",
    "    if str(mmm).isupper():                #if the string is uppercase              \n",
    "        L=[]                              #use index and slice of list A to shift the letter of the string\n",
    "        for i in str(mmm):\n",
    "            shifted_letter=A[(A.index(i)+shift)%26]\n",
    "            L.append(shifted_letter)\n",
    "            shifted_alphabet=''.join(L)\n",
    "        print ('Original:'+mmm)           #print the original string and shifed string\n",
    "        print ('Shifted:'+shifted_alphabet)\n",
    "    \n",
    "    elif str(mmm).islower():              #if the string is lowercase\n",
    "        L=[]\n",
    "        for i in str(mmm):                #use index and slice of list a to shift the letter of the string\n",
    "            shifted_letter=a[(a.index(i)+shift)%26]\n",
    "            L.append(shifted_letter)\n",
    "            shifted_alphabet=''.join(L)\n",
    "        print ('Original:'+mmm)          #print the original string and shifed string\n",
    "        print ('Shifted:'+shifted_alphabet)\n",
    "    else:\n",
    "        print(\"error\")\n",
    "    nnn=list(mmm)                        #return a dictionary whose keys are the original letter and \n",
    "    return dict(zip(nnn,L))              #values are the shifted letters."
   ]
  },
  {
   "cell_type": "code",
   "execution_count": 2,
   "metadata": {},
   "outputs": [
    {
     "name": "stdout",
     "output_type": "stream",
     "text": [
      "Original:ABCDEFGHIJKLMNOPQRSTUVWXYZ\n",
      "Shifted:ABCDEFGHIJKLMNOPQRSTUVWXYZ\n"
     ]
    },
    {
     "data": {
      "text/plain": [
       "{'A': 'A',\n",
       " 'B': 'B',\n",
       " 'C': 'C',\n",
       " 'D': 'D',\n",
       " 'E': 'E',\n",
       " 'F': 'F',\n",
       " 'G': 'G',\n",
       " 'H': 'H',\n",
       " 'I': 'I',\n",
       " 'J': 'J',\n",
       " 'K': 'K',\n",
       " 'L': 'L',\n",
       " 'M': 'M',\n",
       " 'N': 'N',\n",
       " 'O': 'O',\n",
       " 'P': 'P',\n",
       " 'Q': 'Q',\n",
       " 'R': 'R',\n",
       " 'S': 'S',\n",
       " 'T': 'T',\n",
       " 'U': 'U',\n",
       " 'V': 'V',\n",
       " 'W': 'W',\n",
       " 'X': 'X',\n",
       " 'Y': 'Y',\n",
       " 'Z': 'Z'}"
      ]
     },
     "execution_count": 2,
     "metadata": {},
     "output_type": "execute_result"
    }
   ],
   "source": [
    "shift_alpha(string.ascii_uppercase,0)"
   ]
  },
  {
   "cell_type": "code",
   "execution_count": 3,
   "metadata": {},
   "outputs": [
    {
     "name": "stdout",
     "output_type": "stream",
     "text": [
      "Original:ABCDEFGHIJKLMNOPQRSTUVWXYZ\n",
      "Shifted:MNOPQRSTUVWXYZABCDEFGHIJKL\n"
     ]
    },
    {
     "data": {
      "text/plain": [
       "{'A': 'M',\n",
       " 'B': 'N',\n",
       " 'C': 'O',\n",
       " 'D': 'P',\n",
       " 'E': 'Q',\n",
       " 'F': 'R',\n",
       " 'G': 'S',\n",
       " 'H': 'T',\n",
       " 'I': 'U',\n",
       " 'J': 'V',\n",
       " 'K': 'W',\n",
       " 'L': 'X',\n",
       " 'M': 'Y',\n",
       " 'N': 'Z',\n",
       " 'O': 'A',\n",
       " 'P': 'B',\n",
       " 'Q': 'C',\n",
       " 'R': 'D',\n",
       " 'S': 'E',\n",
       " 'T': 'F',\n",
       " 'U': 'G',\n",
       " 'V': 'H',\n",
       " 'W': 'I',\n",
       " 'X': 'J',\n",
       " 'Y': 'K',\n",
       " 'Z': 'L'}"
      ]
     },
     "execution_count": 3,
     "metadata": {},
     "output_type": "execute_result"
    }
   ],
   "source": [
    "shift_alpha(string.ascii_uppercase,12)"
   ]
  },
  {
   "cell_type": "code",
   "execution_count": 4,
   "metadata": {},
   "outputs": [
    {
     "name": "stdout",
     "output_type": "stream",
     "text": [
      "Original:ABCDEFGHIJKLMNOPQRSTUVWXYZ\n",
      "Shifted:XYZABCDEFGHIJKLMNOPQRSTUVW\n"
     ]
    },
    {
     "data": {
      "text/plain": [
       "{'A': 'X',\n",
       " 'B': 'Y',\n",
       " 'C': 'Z',\n",
       " 'D': 'A',\n",
       " 'E': 'B',\n",
       " 'F': 'C',\n",
       " 'G': 'D',\n",
       " 'H': 'E',\n",
       " 'I': 'F',\n",
       " 'J': 'G',\n",
       " 'K': 'H',\n",
       " 'L': 'I',\n",
       " 'M': 'J',\n",
       " 'N': 'K',\n",
       " 'O': 'L',\n",
       " 'P': 'M',\n",
       " 'Q': 'N',\n",
       " 'R': 'O',\n",
       " 'S': 'P',\n",
       " 'T': 'Q',\n",
       " 'U': 'R',\n",
       " 'V': 'S',\n",
       " 'W': 'T',\n",
       " 'X': 'U',\n",
       " 'Y': 'V',\n",
       " 'Z': 'W'}"
      ]
     },
     "execution_count": 4,
     "metadata": {},
     "output_type": "execute_result"
    }
   ],
   "source": [
    "shift_alpha(string.ascii_uppercase,-3)"
   ]
  },
  {
   "cell_type": "markdown",
   "metadata": {},
   "source": [
    "# Exercise #2"
   ]
  },
  {
   "cell_type": "code",
   "execution_count": 5,
   "metadata": {},
   "outputs": [],
   "source": [
    "# Redefine shift_alpha1, same as exercise 1, here we can use it for exercise 2\n",
    "import string\n",
    "def shift_alpha1(mmm, shift=0):\n",
    "    A=list(string.ascii_uppercase)\n",
    "    a=list(string.ascii_lowercase)\n",
    "    if str(mmm).isupper():\n",
    "        L=[]\n",
    "        for i in str(mmm):\n",
    "            shifted_letter=A[(A.index(i)+shift)%26]\n",
    "            L.append(shifted_letter)\n",
    "            shifted_alphabet=''.join(L)   \n",
    "    elif str(mmm).islower():\n",
    "        L=[]\n",
    "        for i in str(mmm):\n",
    "            shifted_letter=a[(a.index(i)+shift)%26]\n",
    "            L.append(shifted_letter)\n",
    "            shifted_alphabet=''.join(L)\n",
    "    else:\n",
    "        print(\"error\")\n",
    "    nnn=list(mmm)\n",
    "    return dict(zip(nnn,L))"
   ]
  },
  {
   "cell_type": "code",
   "execution_count": 6,
   "metadata": {},
   "outputs": [],
   "source": [
    "def encrypt(word,shift=0):     \n",
    "    translated=[]\n",
    "    for i in str(word):                                     \n",
    "        if i in string.ascii_lowercase:                       #use function shift_alpha1 to shift lowercase letter\n",
    "            translated.append(shift_alpha1(i, shift)[i])\n",
    "        elif i in string.ascii_uppercase:                     #use function shift_alpha1 to shift uppercase letter\n",
    "            translated.append(shift_alpha1(i, shift)[i])\n",
    "        else:                                                 #return any non-alphabetic characters as is\n",
    "            translated.append(i)\n",
    "    new_translated=''.join(translated)\n",
    "    return new_translated"
   ]
  },
  {
   "cell_type": "code",
   "execution_count": 7,
   "metadata": {},
   "outputs": [
    {
     "data": {
      "text/plain": [
       "'fuuqj'"
      ]
     },
     "execution_count": 7,
     "metadata": {},
     "output_type": "execute_result"
    }
   ],
   "source": [
    "encrypt('apple',5)"
   ]
  },
  {
   "cell_type": "code",
   "execution_count": 8,
   "metadata": {},
   "outputs": [
    {
     "data": {
      "text/plain": [
       "'Rfwdqfsi'"
      ]
     },
     "execution_count": 8,
     "metadata": {},
     "output_type": "execute_result"
    }
   ],
   "source": [
    "encrypt('Maryland',5)"
   ]
  },
  {
   "cell_type": "code",
   "execution_count": 9,
   "metadata": {},
   "outputs": [
    {
     "data": {
      "text/plain": [
       "'Wtzyj 66'"
      ]
     },
     "execution_count": 9,
     "metadata": {},
     "output_type": "execute_result"
    }
   ],
   "source": [
    "encrypt('Route 66',5)"
   ]
  },
  {
   "cell_type": "code",
   "execution_count": 10,
   "metadata": {},
   "outputs": [
    {
     "data": {
      "text/plain": [
       "'QfYjC'"
      ]
     },
     "execution_count": 10,
     "metadata": {},
     "output_type": "execute_result"
    }
   ],
   "source": [
    "encrypt('LaTeX',5)"
   ]
  },
  {
   "cell_type": "code",
   "execution_count": 11,
   "metadata": {},
   "outputs": [
    {
     "data": {
      "text/plain": [
       "'ybjsyd-knwxy hjsyzwd'"
      ]
     },
     "execution_count": 11,
     "metadata": {},
     "output_type": "execute_result"
    }
   ],
   "source": [
    "encrypt('twenty-first century',5)"
   ]
  },
  {
   "cell_type": "markdown",
   "metadata": {},
   "source": [
    "# Exercise #3"
   ]
  },
  {
   "cell_type": "code",
   "execution_count": 12,
   "metadata": {},
   "outputs": [],
   "source": [
    "# Redefine shift_alpha2 function, same as exercise 1, here we can use it for exercise 3\n",
    "import string\n",
    "def shift_alpha2(mmm, shift=0):\n",
    "    A=list(string.ascii_uppercase)\n",
    "    a=list(string.ascii_lowercase)\n",
    "    if str(mmm).isupper():\n",
    "        L=[]\n",
    "        for i in str(mmm):\n",
    "            shifted_letter=A[(A.index(i)+shift)%26]\n",
    "            L.append(shifted_letter)\n",
    "            shifted_alphabet=''.join(L)   \n",
    "    elif str(mmm).islower():\n",
    "        L=[]\n",
    "        for i in str(mmm):\n",
    "            shifted_letter=a[(a.index(i)+shift)%26]\n",
    "            L.append(shifted_letter)\n",
    "            shifted_alphabet=''.join(L)\n",
    "    else:\n",
    "        print(\"error\")\n",
    "    nnn=list(mmm)\n",
    "    return dict(zip(nnn,L))"
   ]
  },
  {
   "cell_type": "code",
   "execution_count": 13,
   "metadata": {},
   "outputs": [],
   "source": [
    "def decrypt(message):\n",
    "    for shift in range(-12,14):                                 #use for loop for shift range from -12 to 13\n",
    "        decryption=[]\n",
    "        for i in str(message):\n",
    "            if i in string.ascii_lowercase:                     #use function shift_alpha2 to shift lowercase letter\n",
    "                decryption.append(shift_alpha2(i, shift)[i])\n",
    "            elif i in string.ascii_uppercase:                   #use function shift_alpha2 to shift uppercase letter\n",
    "                decryption.append(shift_alpha2(i, shift)[i])\n",
    "            else:                                               #return any non-alphabetic characters as is\n",
    "                decryption.append(i)\n",
    "        new_decryption=''.join(decryption)\n",
    "        print(new_decryption)"
   ]
  },
  {
   "cell_type": "code",
   "execution_count": 14,
   "metadata": {},
   "outputs": [
    {
     "name": "stdout",
     "output_type": "stream",
     "text": [
      "Gkqbyjo yi dej qd qsj, yj yi q xqryj.\n",
      "Hlrczkp zj efk re rtk, zk zj r yrszk.\n",
      "Imsdalq ak fgl sf sul, al ak s zstal.\n",
      "Jntebmr bl ghm tg tvm, bm bl t atubm.\n",
      "Koufcns cm hin uh uwn, cn cm u buvcn.\n",
      "Lpvgdot dn ijo vi vxo, do dn v cvwdo.\n",
      "Mqwhepu eo jkp wj wyp, ep eo w dwxep.\n",
      "Nrxifqv fp klq xk xzq, fq fp x exyfq.\n",
      "Osyjgrw gq lmr yl yar, gr gq y fyzgr.\n",
      "Ptzkhsx hr mns zm zbs, hs hr z gzahs.\n",
      "Quality is not an act, it is a habit.\n",
      "Rvbmjuz jt opu bo bdu, ju jt b ibcju.\n",
      "Swcnkva ku pqv cp cev, kv ku c jcdkv.\n",
      "Txdolwb lv qrw dq dfw, lw lv d kdelw.\n",
      "Uyepmxc mw rsx er egx, mx mw e lefmx.\n",
      "Vzfqnyd nx sty fs fhy, ny nx f mfgny.\n",
      "Wagroze oy tuz gt giz, oz oy g nghoz.\n",
      "Xbhspaf pz uva hu hja, pa pz h ohipa.\n",
      "Ycitqbg qa vwb iv ikb, qb qa i pijqb.\n",
      "Zdjurch rb wxc jw jlc, rc rb j qjkrc.\n",
      "Aekvsdi sc xyd kx kmd, sd sc k rklsd.\n",
      "Bflwtej td yze ly lne, te td l slmte.\n",
      "Cgmxufk ue zaf mz mof, uf ue m tmnuf.\n",
      "Dhnyvgl vf abg na npg, vg vf n unovg.\n",
      "Eiozwhm wg bch ob oqh, wh wg o vopwh.\n",
      "Fjpaxin xh cdi pc pri, xi xh p wpqxi.\n"
     ]
    }
   ],
   "source": [
    "decrypt('Swcnkva ku pqv cp cev, kv ku c jcdkv.')"
   ]
  },
  {
   "cell_type": "markdown",
   "metadata": {},
   "source": [
    "\n",
    "\n",
    "So the decrypted message is: Quality is not an act, it is a habit.\n",
    "The shift is: -2\n",
    "\n"
   ]
  },
  {
   "cell_type": "code",
   "execution_count": 15,
   "metadata": {},
   "outputs": [
    {
     "name": "stdout",
     "output_type": "stream",
     "text": [
      "Rlzkk noonqstmhshdr zqd nesdm sgd adfhmmhmf ne fqdzs dmsdqoqhrdr.\n",
      "Small opportunities are often the beginning of great enterprises.\n",
      "Tnbmm pqqpsuvojujft bsf pgufo uif cfhjoojoh pg hsfbu foufsqsjtft.\n",
      "Uocnn qrrqtvwpkvkgu ctg qhvgp vjg dgikppkpi qh itgcv gpvgtrtkugu.\n",
      "Vpdoo rssruwxqlwlhv duh riwhq wkh ehjlqqlqj ri juhdw hqwhusulvhv.\n",
      "Wqepp sttsvxyrmxmiw evi sjxir xli fikmrrmrk sj kviex irxivtvmwiw.\n",
      "Xrfqq tuutwyzsnynjx fwj tkyjs ymj gjlnssnsl tk lwjfy jsyjwuwnxjx.\n",
      "Ysgrr uvvuxzatozoky gxk ulzkt znk hkmottotm ul mxkgz ktzkxvxoyky.\n",
      "Zthss vwwvyabupaplz hyl vmalu aol ilnpuupun vm nylha lualywypzlz.\n",
      "Auitt wxxwzbcvqbqma izm wnbmv bpm jmoqvvqvo wn ozmib mvbmzxzqama.\n",
      "Bvjuu xyyxacdwrcrnb jan xocnw cqn knprwwrwp xo panjc nwcnayarbnb.\n",
      "Cwkvv yzzybdexsdsoc kbo ypdox dro loqsxxsxq yp qbokd oxdobzbscoc.\n",
      "Dxlww zaazcefytetpd lcp zqepy esp mprtyytyr zq rcple pyepcactdpd.\n",
      "Eymxx abbadfgzufuqe mdq arfqz ftq nqsuzzuzs ar sdqmf qzfqdbdueqe.\n",
      "Fznyy bccbeghavgvrf ner bsgra gur ortvaavat bs terng ragrecevfrf.\n",
      "Gaozz cddcfhibwhwsg ofs cthsb hvs psuwbbwbu ct ufsoh sbhsfdfwgsg.\n",
      "Hbpaa deedgijcxixth pgt duitc iwt qtvxccxcv du vgtpi tcitgegxhth.\n",
      "Icqbb effehjkdyjyui qhu evjud jxu ruwyddydw ev whuqj udjuhfhyiui.\n",
      "Jdrcc fggfiklezkzvj riv fwkve kyv svxzeezex fw xivrk vekvigizjvj.\n",
      "Kesdd ghhgjlmfalawk sjw gxlwf lzw twyaffafy gx yjwsl wflwjhjakwk.\n",
      "Lftee hiihkmngbmbxl tkx hymxg max uxzbggbgz hy zkxtm xgmxkikblxl.\n",
      "Mguff ijjilnohcncym uly iznyh nby vyachhcha iz alyun yhnyljlcmym.\n",
      "Nhvgg jkkjmopidodzn vmz jaozi ocz wzbdiidib ja bmzvo ziozmkmdnzn.\n",
      "Oiwhh kllknpqjepeao wna kbpaj pda xacejjejc kb cnawp ajpanlneoao.\n",
      "Pjxii lmmloqrkfqfbp xob lcqbk qeb ybdfkkfkd lc dobxq bkqbomofpbp.\n",
      "Qkyjj mnnmprslgrgcq ypc mdrcl rfc zcegllgle md epcyr clrcpnpgqcq.\n"
     ]
    }
   ],
   "source": [
    "decrypt('Dxlww zaazcefytetpd lcp zqepy esp mprtyytyr zq rcple pyepcactdpd.')"
   ]
  },
  {
   "cell_type": "markdown",
   "metadata": {},
   "source": [
    "\n",
    "\n",
    "So the decrypted message is: Small opportunities are often the beginning of great enterprises.\n",
    "The shift is: -11\n",
    "\n"
   ]
  },
  {
   "cell_type": "code",
   "execution_count": 16,
   "metadata": {},
   "outputs": [
    {
     "name": "stdout",
     "output_type": "stream",
     "text": [
      "Tqnm qa iv cvnwtlumvb, ivl bpm nczbpmz em bzidmt bpm uwzm bzcbp em kiv kwuxzmpmvl. Bw cvlmzabivl bpm bpqvoa bpib izm ib wcz lwwz qa bpm jmab xzmxizibqwv nwz cvlmzabivlqvo bpwam bpib tqm jmgwvl.\n",
      "Uron rb jw dwoxumvnwc, jwm cqn odacqna fn cajenu cqn vxan cadcq fn ljw lxvyanqnwm. Cx dwmnabcjwm cqn cqrwpb cqjc jan jc xda mxxa rb cqn knbc yanyjajcrxw oxa dwmnabcjwmrwp cqxbn cqjc urn knhxwm.\n",
      "Vspo sc kx expyvnwoxd, kxn dro pebdrob go dbkfov dro wybo dbedr go mkx mywzboroxn. Dy exnobcdkxn dro drsxqc drkd kbo kd yeb nyyb sc dro locd zbozkbkdsyx pyb exnobcdkxnsxq dryco drkd vso loiyxn.\n",
      "Wtqp td ly fyqzwoxpye, lyo esp qfcespc hp eclgpw esp xzcp ecfes hp nly nzxacpspyo. Ez fyopcdelyo esp estyrd esle lcp le zfc ozzc td esp mpde acpalcletzy qzc fyopcdelyotyr eszdp esle wtp mpjzyo.\n",
      "Xurq ue mz gzraxpyqzf, mzp ftq rgdftqd iq fdmhqx ftq yadq fdgft iq omz oaybdqtqzp. Fa gzpqdefmzp ftq ftuzse ftmf mdq mf agd paad ue ftq nqef bdqbmdmfuaz rad gzpqdefmzpuzs ftaeq ftmf xuq nqkazp.\n",
      "Yvsr vf na hasbyqzrag, naq gur shegure jr geniry gur zber gehgu jr pna pbzceruraq. Gb haqrefgnaq gur guvatf gung ner ng bhe qbbe vf gur orfg cercnengvba sbe haqrefgnaqvat gubfr gung yvr orlbaq.\n",
      "Zwts wg ob ibtczrasbh, obr hvs tifhvsf ks hfojsz hvs acfs hfihv ks qob qcadfsvsbr. Hc ibrsfghobr hvs hvwbug hvoh ofs oh cif rccf wg hvs psgh dfsdofohwcb tcf ibrsfghobrwbu hvcgs hvoh zws psmcbr.\n",
      "Axut xh pc jcudasbtci, pcs iwt ujgiwtg lt igpkta iwt bdgt igjiw lt rpc rdbegtwtcs. Id jcstghipcs iwt iwxcvh iwpi pgt pi djg sddg xh iwt qthi egtepgpixdc udg jcstghipcsxcv iwdht iwpi axt qtndcs.\n",
      "Byvu yi qd kdvebtcudj, qdt jxu vkhjxuh mu jhqlub jxu cehu jhkjx mu sqd secfhuxudt. Je kdtuhijqdt jxu jxydwi jxqj qhu qj ekh teeh yi jxu ruij fhufqhqjyed veh kdtuhijqdtydw jxeiu jxqj byu ruoedt.\n",
      "Czwv zj re lewfcudvek, reu kyv wlikyvi nv kirmvc kyv dfiv kilky nv tre tfdgivyveu. Kf leuvijkreu kyv kyzexj kyrk riv rk fli uffi zj kyv svjk givgrirkzfe wfi leuvijkreuzex kyfjv kyrk czv svpfeu.\n",
      "Daxw ak sf mfxgdvewfl, sfv lzw xmjlzwj ow ljsnwd lzw egjw ljmlz ow usf ugehjwzwfv. Lg mfvwjklsfv lzw lzafyk lzsl sjw sl gmj vggj ak lzw twkl hjwhsjslagf xgj mfvwjklsfvafy lzgkw lzsl daw twqgfv.\n",
      "Ebyx bl tg ngyhewfxgm, tgw max ynkmaxk px mktoxe max fhkx mknma px vtg vhfikxaxgw. Mh ngwxklmtgw max mabgzl matm tkx tm hnk whhk bl max uxlm ikxitktmbhg yhk ngwxklmtgwbgz mahlx matm ebx uxrhgw.\n",
      "Fczy cm uh ohzifxgyhn, uhx nby zolnbyl qy nlupyf nby gily nlonb qy wuh wigjlybyhx. Ni ohxylmnuhx nby nbcham nbun uly un iol xiil cm nby vymn jlyjuluncih zil ohxylmnuhxcha nbimy nbun fcy vysihx.\n",
      "Gdaz dn vi piajgyhzio, viy ocz apmoczm rz omvqzg ocz hjmz ompoc rz xvi xjhkmzcziy. Oj piyzmnoviy ocz ocdibn ocvo vmz vo jpm yjjm dn ocz wzno kmzkvmvodji ajm piyzmnoviydib ocjnz ocvo gdz wztjiy.\n",
      "Heba eo wj qjbkhziajp, wjz pda bqnpdan sa pnwrah pda ikna pnqpd sa ywj ykilnadajz. Pk qjzanopwjz pda pdejco pdwp wna wp kqn zkkn eo pda xaop lnalwnwpekj bkn qjzanopwjzejc pdkoa pdwp hea xaukjz.\n",
      "Ifcb fp xk rkcliajbkq, xka qeb croqebo tb qoxsbi qeb jlob qorqe tb zxk zljmobebka. Ql rkabopqxka qeb qefkdp qexq xob xq lro allo fp qeb ybpq mobmxoxqflk clo rkabopqxkafkd qelpb qexq ifb ybvlka.\n",
      "Jgdc gq yl sldmjbkclr, ylb rfc dsprfcp uc rpytcj rfc kmpc rpsrf uc ayl amknpcfclb. Rm slbcpqrylb rfc rfgleq rfyr ypc yr msp bmmp gq rfc zcqr npcnypyrgml dmp slbcpqrylbgle rfmqc rfyr jgc zcwmlb.\n",
      "Khed hr zm tmenkcldms, zmc sgd etqsgdq vd sqzudk sgd lnqd sqtsg vd bzm bnloqdgdmc. Sn tmcdqrszmc sgd sghmfr sgzs zqd zs ntq cnnq hr sgd adrs oqdozqzshnm enq tmcdqrszmchmf sgnrd sgzs khd adxnmc.\n",
      "Life is an unfoldment, and the further we travel the more truth we can comprehend. To understand the things that are at our door is the best preparation for understanding those that lie beyond.\n",
      "Mjgf jt bo vogpmenfou, boe uif gvsuifs xf usbwfm uif npsf usvui xf dbo dpnqsfifoe. Up voefstuboe uif uijoht uibu bsf bu pvs epps jt uif cftu qsfqbsbujpo gps voefstuboejoh uiptf uibu mjf cfzpoe.\n",
      "Nkhg ku cp wphqnfogpv, cpf vjg hwtvjgt yg vtcxgn vjg oqtg vtwvj yg ecp eqortgjgpf. Vq wpfgtuvcpf vjg vjkpiu vjcv ctg cv qwt fqqt ku vjg dguv rtgrctcvkqp hqt wpfgtuvcpfkpi vjqug vjcv nkg dgaqpf.\n",
      "Olih lv dq xqirogphqw, dqg wkh ixuwkhu zh wudyho wkh pruh wuxwk zh fdq frpsuhkhqg. Wr xqghuvwdqg wkh wklqjv wkdw duh dw rxu grru lv wkh ehvw suhsdudwlrq iru xqghuvwdqglqj wkrvh wkdw olh ehbrqg.\n",
      "Pmji mw er yrjsphqirx, erh xli jyvxliv ai xvezip xli qsvi xvyxl ai ger gsqtvilirh. Xs yrhivwxerh xli xlmrkw xlex evi ex syv hssv mw xli fiwx tvitevexmsr jsv yrhivwxerhmrk xlswi xlex pmi ficsrh.\n",
      "Qnkj nx fs zsktqirjsy, fsi ymj kzwymjw bj ywfajq ymj rtwj ywzym bj hfs htruwjmjsi. Yt zsijwxyfsi ymj ymnslx ymfy fwj fy tzw ittw nx ymj gjxy uwjufwfynts ktw zsijwxyfsinsl ymtxj ymfy qnj gjdtsi.\n",
      "Rolk oy gt atlurjsktz, gtj znk laxznkx ck zxgbkr znk suxk zxazn ck igt iusvxknktj. Zu atjkxyzgtj znk znotmy zngz gxk gz uax juux oy znk hkyz vxkvgxgzout lux atjkxyzgtjotm znuyk zngz rok hkeutj.\n",
      "Spml pz hu bumvsktlua, huk aol mbyaoly dl ayhcls aol tvyl aybao dl jhu jvtwyloluk. Av buklyzahuk aol aopunz aoha hyl ha vby kvvy pz aol ilza wylwhyhapvu mvy buklyzahukpun aovzl aoha spl ilfvuk.\n"
     ]
    }
   ],
   "source": [
    "decrypt('Fczy cm uh ohzifxgyhn, uhx nby zolnbyl qy nlupyf nby gily nlonb qy wuh wigjlybyhx. Ni ohxylmnuhx nby nbcham nbun uly un iol xiil cm nby vymn jlyjuluncih zil ohxylmnuhxcha nbimy nbun fcy vysihx.')"
   ]
  },
  {
   "cell_type": "markdown",
   "metadata": {},
   "source": [
    "\n",
    "\n",
    "So the decrypted message is: Life is an unfoldment, and the further we travel the more truth we can comprehend. To understand the things that are at our door is the best preparation for understanding those that lie beyond.\n",
    "\n",
    "The shift is: 6\n",
    "\n"
   ]
  },
  {
   "cell_type": "code",
   "execution_count": null,
   "metadata": {},
   "outputs": [],
   "source": []
  }
 ],
 "metadata": {
  "kernelspec": {
   "display_name": "Python 3",
   "language": "python",
   "name": "python3"
  },
  "language_info": {
   "codemirror_mode": {
    "name": "ipython",
    "version": 3
   },
   "file_extension": ".py",
   "mimetype": "text/x-python",
   "name": "python",
   "nbconvert_exporter": "python",
   "pygments_lexer": "ipython3",
   "version": "3.6.8"
  }
 },
 "nbformat": 4,
 "nbformat_minor": 2
}
