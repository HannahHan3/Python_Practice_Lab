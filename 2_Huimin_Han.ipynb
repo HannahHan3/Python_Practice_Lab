{
 "cells": [
  {
   "cell_type": "markdown",
   "metadata": {},
   "source": [
    "# Exercisr #1"
   ]
  },
  {
   "cell_type": "markdown",
   "metadata": {},
   "source": [
    "In the classic card game War, a standard deck of (52) playing cards is shuffled and distributed evenly among two players (26 cards each). For each round of gameplay, the players lay out one card at a time (for our purposes, in order of how they have been dealt) and the player with the higher card wins the round (where Ace = 1, 2-10 equal their face value, and Jack, Queen, and King = 11, 12, 13, respectively, across each of the four suits: diamonds, hearts, clubs, spades). Ties are broken with additional plays until one player wins the full round (i.e., all of the cards played during the round, including those that were tied). Although variations of the game can continue until one player wins all of the cards, let's consider the simple case in which cards won during a previous round cannot be replayed.\n",
    "\n",
    "A variant of War, called Addition War, consists of two cards being played by each player at a time, where the player with the higher sum of two card values wins the round. Similar to the original game, ties are broken with additional plays of two cards each until one player wins all of the cards in the round. Once all cards have been played (once), the player with the higher score (sum of collected card values) wins the game. If the players run out of cards in the middle of a tiebreaker, assume that each player's respective cards (for that round) are returned to them for the final score."
   ]
  },
  {
   "cell_type": "markdown",
   "metadata": {},
   "source": [
    "## 1a:\n"
   ]
  },
  {
   "cell_type": "markdown",
   "metadata": {},
   "source": [
    "Write (and execute) a statement that will generate a list of values associated with a standard deck of playing cards. You do not need to differentiate between suits (i.e., diamonds, hearts, clubs, spades), as they have no relevance for this particular game. Also report the total value associated with a full deck of cards, which represents the maximum total for a game."
   ]
  },
  {
   "cell_type": "code",
   "execution_count": 1,
   "metadata": {},
   "outputs": [
    {
     "name": "stdout",
     "output_type": "stream",
     "text": [
      "[1, 2, 3, 4, 5, 6, 7, 8, 9, 10, 11, 12, 13, 1, 2, 3, 4, 5, 6, 7, 8, 9, 10, 11, 12, 13, 1, 2, 3, 4, 5, 6, 7, 8, 9, 10, 11, 12, 13, 1, 2, 3, 4, 5, 6, 7, 8, 9, 10, 11, 12, 13]\n"
     ]
    }
   ],
   "source": [
    "deck=[]                      \n",
    "for i in range(4):                 #create 1 to 13 four times\n",
    "    for i in range(1,14):\n",
    "        deck.append(i)\n",
    "print(deck)"
   ]
  },
  {
   "cell_type": "code",
   "execution_count": 2,
   "metadata": {},
   "outputs": [
    {
     "data": {
      "text/plain": [
       "364"
      ]
     },
     "execution_count": 2,
     "metadata": {},
     "output_type": "execute_result"
    }
   ],
   "source": [
    "Max=sum(deck)\n",
    "Max"
   ]
  },
  {
   "cell_type": "markdown",
   "metadata": {},
   "source": [
    "## 1b:"
   ]
  },
  {
   "cell_type": "markdown",
   "metadata": {},
   "source": [
    "Define a function deal that will shuffle and distribute the 52 playing cards evenly to two players (26 each) and return a tuple of each player's hand (as a list of values). The function does not need to take in any arguments, and should create the deck of values internally (i.e., you should not need to input the deck of values into the function; you may reuse the statement you developed for part a). You may assume that you are always playing with a standard deck (52 cards). You may make use of any NumPy functionality to perform the shuffle operation. Validate the operation of your function by dealing a hand to two players and displaying each player's hand along with their number of cards and the associated total value."
   ]
  },
  {
   "cell_type": "code",
   "execution_count": 3,
   "metadata": {},
   "outputs": [],
   "source": [
    "import random\n",
    "def deal():\n",
    "    random.shuffle(deck)                #shuffle the deck\n",
    "    hand1=list(deck[0:26])              #for player1 take the first 26 elements of deck\n",
    "    hand2=list(deck[26:])               #for player2 take the last 26 elements of deck\n",
    "    print({'The initial value totals for player1 is:':sum(hand1),'The initial value totals for player2 is:':sum(hand2)})\n",
    "    return hand1,hand2"
   ]
  },
  {
   "cell_type": "code",
   "execution_count": 4,
   "metadata": {
    "scrolled": true
   },
   "outputs": [
    {
     "name": "stdout",
     "output_type": "stream",
     "text": [
      "{'The initial value totals for player1 is:': 178, 'The initial value totals for player2 is:': 186}\n",
      "([11, 13, 5, 13, 6, 3, 13, 7, 11, 8, 10, 6, 4, 10, 2, 5, 12, 2, 1, 3, 1, 1, 7, 9, 12, 3], [9, 11, 10, 4, 9, 13, 9, 10, 12, 5, 8, 7, 12, 4, 8, 8, 2, 3, 1, 11, 2, 6, 6, 5, 4, 7])\n"
     ]
    }
   ],
   "source": [
    "print(deal())"
   ]
  },
  {
   "cell_type": "markdown",
   "metadata": {},
   "source": [
    "## 1c:"
   ]
  },
  {
   "cell_type": "markdown",
   "metadata": {},
   "source": [
    "Define a function play that will simulate a single game of Addition War between two players. Note that you will need to account for rounds in which a given player wins outright (i.e., after the initial play of two cards) and for rounds in which one or more ties occur. You will also need to terminate the game appropriately (i.e., after each player has played all of their cards once).\n",
    "\n",
    "Similar to the deal function, this function does not take in any arguments. The function should print information about each round of play, which will assist in validating the operation of the function. Finally, the function should store and output the initial value totals for each player's hand (i.e., after dealing), the final value totals for each player (i.e., after playing the full game), and the winner (i.e., the player with the higher total). You may choose the details of how all of this information is reported and stored, but the output should be clear and well organized.\n",
    "\n",
    "Validate the operation of your function by simulating one game without ties and one game with ties. You may need to simulate several games to generate both outcomes."
   ]
  },
  {
   "cell_type": "code",
   "execution_count": 5,
   "metadata": {},
   "outputs": [],
   "source": [
    "import random\n",
    "def play():\n",
    "    random.shuffle(deck)                \n",
    "    hand1=tuple(deck[0:26])\n",
    "    hand2=tuple(deck[26:])\n",
    "    score1=0\n",
    "    score2=0\n",
    "    i=1\n",
    "    player1_round=[]                                #create list to record cards for each round pf the 2 players\n",
    "    player2_round=[]\n",
    "    player1_cards=[]\n",
    "    player2_cards=[]\n",
    "    while i <=13:                                   #totally 13 rounds\n",
    "        player1_round.append(hand1[i*2-2])          #player#_round used to record scores for each round\n",
    "        player1_round.append(hand1[i*2-1])\n",
    "        player2_round.append(hand2[i*2-2])\n",
    "        player2_round.append(hand2[i*2-1])\n",
    "        player1_cards.append(hand1[i*2-2])          #player#_cards used to record cards for each round\n",
    "        player1_cards.append(hand1[i*2-1])\n",
    "        player2_cards.append(hand2[i*2-2])\n",
    "        player2_cards.append(hand2[i*2-1])\n",
    "        sum1=sum(player1_round)                     #calculate the sum of the 2 cards of one roung for each player                  \n",
    "        sum2=sum(player2_round)\n",
    "        score=sum1+sum2                             #calculate the score for this round\n",
    "        if sum1>sum2:                               #if player1 wins this round, add the score to score1\n",
    "            score1+=score\n",
    "            i+=1\n",
    "            player1_round=[]                        #clean the list to record the next round\n",
    "            player2_round=[]\n",
    "            print(\"Round \"+str(i-1)+\" scores: \"+\"player1 \"+\"VS \"+\"player2: \"+str(score1)+\" : \"+str(score2))\n",
    "            print('player1:'+str(player1_cards))\n",
    "            print('player2:'+str(player2_cards))\n",
    "            print('winner:player1'+'\\n')\n",
    "        elif sum1<sum2:                             #same as the condition of sum1>sum2 \n",
    "            score2+=score\n",
    "            i+=1\n",
    "            player1_round=[]\n",
    "            player2_round=[]\n",
    "\n",
    "            print(\"Round \"+str(i-1)+\" scores: \"+\"player1 \"+\"VS \"+\"player2: \"+str(score1)+\" : \"+str(score2))\n",
    "            print('player1:'+str(player1_cards))\n",
    "            print('player2:'+str(player2_cards))\n",
    "            print('winner:player2'+'\\n')\n",
    "        else:                                       #if ties for this round, just go to the next round and doesn't clean\n",
    "            if i <13:                               #the list so that next round still contain cards for this round\n",
    "                i+=1\n",
    "                print(\"Round \"+str(i-1)+\" scores: \"+\"player1 \"+\"VS \"+\"player2: \"+str(score1)+\" : \"+str(score2))\n",
    "                print('player1:'+str(player1_cards))\n",
    "                print('player2:'+str(player2_cards))\n",
    "                print('Ties'+'\\n')\n",
    "            else:                                   #if the final round ties, return cards to each player\n",
    "                i+=1\n",
    "                score1+=sum1\n",
    "                score2+=sum2\n",
    "                print(\"Round \"+str(i-1)+\" scores: \"+\"player1 \"+\"VS \"+\"player2: \"+str(score1)+\" : \"+str(score2))\n",
    "                print('player1:'+str(player1_cards))\n",
    "                print('player2:'+str(player2_cards))\n",
    "                print('Ties'+'\\n')\n",
    "    if score1>score2:                               #define the final winner\n",
    "        winner='player1'\n",
    "    elif score1<score2:\n",
    "        winner='player2' \n",
    "    else:\n",
    "        winner='Tie'\n",
    "    return{'The initial value totals for player1 is:':sum(hand1),'The initial value totals for player2 is:':sum(hand2)},{'The final value totals for player1 is:':score1,'The final value totals for player2 is:':score2},{'The winner is:':winner}"
   ]
  },
  {
   "cell_type": "code",
   "execution_count": 6,
   "metadata": {},
   "outputs": [
    {
     "name": "stdout",
     "output_type": "stream",
     "text": [
      "Round 1 scores: player1 VS player2: 36 : 0\n",
      "player1:[13, 10]\n",
      "player2:[4, 9]\n",
      "winner:player1\n",
      "\n",
      "Round 2 scores: player1 VS player2: 36 : 0\n",
      "player1:[13, 10, 3, 8]\n",
      "player2:[4, 9, 3, 8]\n",
      "Ties\n",
      "\n",
      "Round 3 scores: player1 VS player2: 36 : 53\n",
      "player1:[13, 10, 3, 8, 11, 1]\n",
      "player2:[4, 9, 3, 8, 9, 10]\n",
      "winner:player2\n",
      "\n",
      "Round 4 scores: player1 VS player2: 36 : 53\n",
      "player1:[13, 10, 3, 8, 11, 1, 7, 6]\n",
      "player2:[4, 9, 3, 8, 9, 10, 7, 6]\n",
      "Ties\n",
      "\n",
      "Round 5 scores: player1 VS player2: 85 : 53\n",
      "player1:[13, 10, 3, 8, 11, 1, 7, 6, 4, 8]\n",
      "player2:[4, 9, 3, 8, 9, 10, 7, 6, 7, 4]\n",
      "winner:player1\n",
      "\n",
      "Round 6 scores: player1 VS player2: 85 : 74\n",
      "player1:[13, 10, 3, 8, 11, 1, 7, 6, 4, 8, 5, 2]\n",
      "player2:[4, 9, 3, 8, 9, 10, 7, 6, 7, 4, 11, 3]\n",
      "winner:player2\n",
      "\n",
      "Round 7 scores: player1 VS player2: 85 : 105\n",
      "player1:[13, 10, 3, 8, 11, 1, 7, 6, 4, 8, 5, 2, 12, 2]\n",
      "player2:[4, 9, 3, 8, 9, 10, 7, 6, 7, 4, 11, 3, 10, 7]\n",
      "winner:player2\n",
      "\n",
      "Round 8 scores: player1 VS player2: 122 : 105\n",
      "player1:[13, 10, 3, 8, 11, 1, 7, 6, 4, 8, 5, 2, 12, 2, 12, 8]\n",
      "player2:[4, 9, 3, 8, 9, 10, 7, 6, 7, 4, 11, 3, 10, 7, 12, 5]\n",
      "winner:player1\n",
      "\n",
      "Round 9 scores: player1 VS player2: 122 : 127\n",
      "player1:[13, 10, 3, 8, 11, 1, 7, 6, 4, 8, 5, 2, 12, 2, 12, 8, 6, 2]\n",
      "player2:[4, 9, 3, 8, 9, 10, 7, 6, 7, 4, 11, 3, 10, 7, 12, 5, 2, 12]\n",
      "winner:player2\n",
      "\n",
      "Round 10 scores: player1 VS player2: 122 : 166\n",
      "player1:[13, 10, 3, 8, 11, 1, 7, 6, 4, 8, 5, 2, 12, 2, 12, 8, 6, 2, 11, 5]\n",
      "player2:[4, 9, 3, 8, 9, 10, 7, 6, 7, 4, 11, 3, 10, 7, 12, 5, 2, 12, 13, 10]\n",
      "winner:player2\n",
      "\n",
      "Round 11 scores: player1 VS player2: 122 : 196\n",
      "player1:[13, 10, 3, 8, 11, 1, 7, 6, 4, 8, 5, 2, 12, 2, 12, 8, 6, 2, 11, 5, 5, 3]\n",
      "player2:[4, 9, 3, 8, 9, 10, 7, 6, 7, 4, 11, 3, 10, 7, 12, 5, 2, 12, 13, 10, 13, 9]\n",
      "winner:player2\n",
      "\n",
      "Round 12 scores: player1 VS player2: 161 : 196\n",
      "player1:[13, 10, 3, 8, 11, 1, 7, 6, 4, 8, 5, 2, 12, 2, 12, 8, 6, 2, 11, 5, 5, 3, 9, 11]\n",
      "player2:[4, 9, 3, 8, 9, 10, 7, 6, 7, 4, 11, 3, 10, 7, 12, 5, 2, 12, 13, 10, 13, 9, 6, 13]\n",
      "winner:player1\n",
      "\n",
      "Round 13 scores: player1 VS player2: 161 : 203\n",
      "player1:[13, 10, 3, 8, 11, 1, 7, 6, 4, 8, 5, 2, 12, 2, 12, 8, 6, 2, 11, 5, 5, 3, 9, 11, 1, 1]\n",
      "player2:[4, 9, 3, 8, 9, 10, 7, 6, 7, 4, 11, 3, 10, 7, 12, 5, 2, 12, 13, 10, 13, 9, 6, 13, 1, 4]\n",
      "winner:player2\n",
      "\n"
     ]
    },
    {
     "data": {
      "text/plain": [
       "({'The initial value totals for player1 is:': 166,\n",
       "  'The initial value totals for player2 is:': 198},\n",
       " {'The final value totals for player1 is:': 161,\n",
       "  'The final value totals for player2 is:': 203},\n",
       " {'The winner is:': 'player2'})"
      ]
     },
     "execution_count": 6,
     "metadata": {},
     "output_type": "execute_result"
    }
   ],
   "source": [
    "play()  #Display with ties"
   ]
  },
  {
   "cell_type": "code",
   "execution_count": 7,
   "metadata": {},
   "outputs": [
    {
     "name": "stdout",
     "output_type": "stream",
     "text": [
      "Round 1 scores: player1 VS player2: 36 : 0\n",
      "player1:[12, 10]\n",
      "player2:[4, 10]\n",
      "winner:player1\n",
      "\n",
      "Round 2 scores: player1 VS player2: 65 : 0\n",
      "player1:[12, 10, 13, 6]\n",
      "player2:[4, 10, 9, 1]\n",
      "winner:player1\n",
      "\n",
      "Round 3 scores: player1 VS player2: 101 : 0\n",
      "player1:[12, 10, 13, 6, 11, 9]\n",
      "player2:[4, 10, 9, 1, 7, 9]\n",
      "winner:player1\n",
      "\n",
      "Round 4 scores: player1 VS player2: 101 : 27\n",
      "player1:[12, 10, 13, 6, 11, 9, 5, 7]\n",
      "player2:[4, 10, 9, 1, 7, 9, 8, 7]\n",
      "winner:player2\n",
      "\n",
      "Round 5 scores: player1 VS player2: 101 : 59\n",
      "player1:[12, 10, 13, 6, 11, 9, 5, 7, 5, 10]\n",
      "player2:[4, 10, 9, 1, 7, 9, 8, 7, 13, 4]\n",
      "winner:player2\n",
      "\n",
      "Round 6 scores: player1 VS player2: 128 : 59\n",
      "player1:[12, 10, 13, 6, 11, 9, 5, 7, 5, 10, 12, 6]\n",
      "player2:[4, 10, 9, 1, 7, 9, 8, 7, 13, 4, 8, 1]\n",
      "winner:player1\n",
      "\n",
      "Round 7 scores: player1 VS player2: 146 : 59\n",
      "player1:[12, 10, 13, 6, 11, 9, 5, 7, 5, 10, 12, 6, 7, 3]\n",
      "player2:[4, 10, 9, 1, 7, 9, 8, 7, 13, 4, 8, 1, 2, 6]\n",
      "winner:player1\n",
      "\n",
      "Round 8 scores: player1 VS player2: 146 : 91\n",
      "player1:[12, 10, 13, 6, 11, 9, 5, 7, 5, 10, 12, 6, 7, 3, 8, 3]\n",
      "player2:[4, 10, 9, 1, 7, 9, 8, 7, 13, 4, 8, 1, 2, 6, 13, 8]\n",
      "winner:player2\n",
      "\n",
      "Round 9 scores: player1 VS player2: 146 : 122\n",
      "player1:[12, 10, 13, 6, 11, 9, 5, 7, 5, 10, 12, 6, 7, 3, 8, 3, 11, 3]\n",
      "player2:[4, 10, 9, 1, 7, 9, 8, 7, 13, 4, 8, 1, 2, 6, 13, 8, 11, 6]\n",
      "winner:player2\n",
      "\n",
      "Round 10 scores: player1 VS player2: 166 : 122\n",
      "player1:[12, 10, 13, 6, 11, 9, 5, 7, 5, 10, 12, 6, 7, 3, 8, 3, 11, 3, 12, 5]\n",
      "player2:[4, 10, 9, 1, 7, 9, 8, 7, 13, 4, 8, 1, 2, 6, 13, 8, 11, 6, 2, 1]\n",
      "winner:player1\n",
      "\n",
      "Round 11 scores: player1 VS player2: 193 : 122\n",
      "player1:[12, 10, 13, 6, 11, 9, 5, 7, 5, 10, 12, 6, 7, 3, 8, 3, 11, 3, 12, 5, 12, 3]\n",
      "player2:[4, 10, 9, 1, 7, 9, 8, 7, 13, 4, 8, 1, 2, 6, 13, 8, 11, 6, 2, 1, 1, 11]\n",
      "winner:player1\n",
      "\n",
      "Round 12 scores: player1 VS player2: 213 : 122\n",
      "player1:[12, 10, 13, 6, 11, 9, 5, 7, 5, 10, 12, 6, 7, 3, 8, 3, 11, 3, 12, 5, 12, 3, 4, 9]\n",
      "player2:[4, 10, 9, 1, 7, 9, 8, 7, 13, 4, 8, 1, 2, 6, 13, 8, 11, 6, 2, 1, 1, 11, 2, 5]\n",
      "winner:player1\n",
      "\n",
      "Round 13 scores: player1 VS player2: 242 : 122\n",
      "player1:[12, 10, 13, 6, 11, 9, 5, 7, 5, 10, 12, 6, 7, 3, 8, 3, 11, 3, 12, 5, 12, 3, 4, 9, 10, 13]\n",
      "player2:[4, 10, 9, 1, 7, 9, 8, 7, 13, 4, 8, 1, 2, 6, 13, 8, 11, 6, 2, 1, 1, 11, 2, 5, 4, 2]\n",
      "winner:player1\n",
      "\n"
     ]
    },
    {
     "data": {
      "text/plain": [
       "({'The initial value totals for player1 is:': 209,\n",
       "  'The initial value totals for player2 is:': 155},\n",
       " {'The final value totals for player1 is:': 242,\n",
       "  'The final value totals for player2 is:': 122},\n",
       " {'The winner is:': 'player1'})"
      ]
     },
     "execution_count": 7,
     "metadata": {},
     "output_type": "execute_result"
    }
   ],
   "source": [
    "play()   #Display without ties"
   ]
  },
  {
   "cell_type": "markdown",
   "metadata": {},
   "source": [
    "## 1d:"
   ]
  },
  {
   "cell_type": "markdown",
   "metadata": {},
   "source": [
    " Given your implemented game, let's perform some analysis of the gameplay. For brevity in your notebook, you may want to create a copy of your play function that does not include any (active) print statements to use for this part of the assignment. Simulate n = 20 games of Addition War, and provide the following results and analysis (1 point each):\n"
   ]
  },
  {
   "cell_type": "markdown",
   "metadata": {},
   "source": [
    "### (1):"
   ]
  },
  {
   "cell_type": "markdown",
   "metadata": {},
   "source": [
    "Extract the final scores for the winning and losing players, and produce descriptive statistics for each scenario, specifically the minimum, mean, and maximum totals after each game. What do you observe about the winning and losing totals?"
   ]
  },
  {
   "cell_type": "code",
   "execution_count": 8,
   "metadata": {},
   "outputs": [],
   "source": [
    "import numpy as np\n",
    "winner_score=[]                        #create lists to record scores for winner and loser\n",
    "loser_score=[]\n",
    "winner_initial=[]\n",
    "loser_initial=[]\n",
    "for i in range(20):                    #play 20 games\n",
    "    random.shuffle(deck)               #same as play() function\n",
    "    hand1=tuple(deck[0:26])\n",
    "    hand2=tuple(deck[26:])\n",
    "    score1=0\n",
    "    score2=0\n",
    "    i=1\n",
    "    player1_round=[]\n",
    "    player2_round=[]\n",
    "    while i <=13:\n",
    "        player1_round.append(hand1[i*2-2])\n",
    "        player1_round.append(hand1[i*2-1])\n",
    "        player2_round.append(hand2[i*2-2])\n",
    "        player2_round.append(hand2[i*2-1])\n",
    "        sum1=sum(player1_round)\n",
    "        sum2=sum(player2_round)\n",
    "        score=sum1+sum2\n",
    "        if sum1>sum2:\n",
    "            score1+=score\n",
    "            i+=1\n",
    "            player1_round=[]\n",
    "            player2_round=[]\n",
    "        elif sum1<sum2:\n",
    "            score2+=score\n",
    "            i+=1\n",
    "            player1_round=[]\n",
    "            player2_round=[]\n",
    "        else:\n",
    "            if i <13:\n",
    "                i+=1\n",
    "            else:\n",
    "                i+=1\n",
    "                score1+=sum1\n",
    "                score2+=sum2\n",
    "    if score1>score2:\n",
    "        winner='player1'\n",
    "    elif score1<score2:\n",
    "        winner='player2' \n",
    "    else:\n",
    "        winner='Tie'\n",
    "    if score1>=score2:\n",
    "        winner_score.append(score1)\n",
    "        loser_score.append(score2)\n",
    "        winner_initial.append(sum(hand1))\n",
    "        loser_initial.append(sum(hand2))\n",
    "    else:\n",
    "        winner_score.append(score2)\n",
    "        loser_score.append(score1)\n",
    "        winner_initial.append(sum(hand2))\n",
    "        loser_initial.append(sum(hand1))"
   ]
  },
  {
   "cell_type": "code",
   "execution_count": 9,
   "metadata": {},
   "outputs": [
    {
     "name": "stdout",
     "output_type": "stream",
     "text": [
      "The minimum totals of winner is: 183\n",
      "The mean totals of winner is: 237.15\n",
      "The maximum totals of winner is: 295\n"
     ]
    }
   ],
   "source": [
    "#calculate the statistics for winners\n",
    "winner_min=np.min(winner_score)\n",
    "winner_mean=np.mean(winner_score)\n",
    "winner_max=np.max(winner_score)\n",
    "print('The minimum totals of winner is: '+str(winner_min))\n",
    "print('The mean totals of winner is: '+str(winner_mean))\n",
    "print('The maximum totals of winner is: '+str(winner_max))"
   ]
  },
  {
   "cell_type": "code",
   "execution_count": 10,
   "metadata": {},
   "outputs": [
    {
     "name": "stdout",
     "output_type": "stream",
     "text": [
      "The minimum totals of loser is: 69\n",
      "The mean totals of loser is: 126.85\n",
      "The maximum totals of loser is: 181\n"
     ]
    }
   ],
   "source": [
    "#calculate the statistics for losers\n",
    "loser_min=np.min(loser_score)\n",
    "loser_mean=np.mean(loser_score)\n",
    "loser_max=np.max(loser_score)\n",
    "print('The minimum totals of loser is: '+str(loser_min))\n",
    "print('The mean totals of loser is: '+str(loser_mean))\n",
    "print('The maximum totals of loser is: '+str(loser_max))"
   ]
  },
  {
   "cell_type": "markdown",
   "metadata": {},
   "source": [
    "All the mean,minimum and maximum of winning totals are greater than those of losing totals."
   ]
  },
  {
   "cell_type": "markdown",
   "metadata": {},
   "source": [
    "### (2):"
   ]
  },
  {
   "cell_type": "markdown",
   "metadata": {},
   "source": [
    "What proportion of games resulted in a winner that had a lower initial total than their opponent? What was the lowest initial total to win a game (or conversely, the highest initial total to lose a game)?"
   ]
  },
  {
   "cell_type": "code",
   "execution_count": 11,
   "metadata": {},
   "outputs": [],
   "source": [
    "proportion=sum(winner_initial[i]<loser_initial[i] for i in range(0,20))/20\n",
    "lowest_winner_initial=np.min(winner_initial)"
   ]
  },
  {
   "cell_type": "code",
   "execution_count": 12,
   "metadata": {},
   "outputs": [
    {
     "name": "stdout",
     "output_type": "stream",
     "text": [
      "15% of games resulted in a winner have a lower initial total than their opponent.\n",
      "The lowest initial total to win a game is: 171\n"
     ]
    }
   ],
   "source": [
    "print(str(int(proportion*100))+'%'+' of games resulted in a winner have a lower initial total than their opponent.')\n",
    "print('The lowest initial total to win a game is: '+str(lowest_winner_initial))"
   ]
  },
  {
   "cell_type": "markdown",
   "metadata": {},
   "source": [
    "### (3):"
   ]
  },
  {
   "cell_type": "markdown",
   "metadata": {},
   "source": [
    "Calculate the (linear) correlation between the initial and final totals for winners vs. losers? What do you observe about the respective correlations, and what do these correlations tell you about the relationship between the initial and final totals?\n"
   ]
  },
  {
   "cell_type": "code",
   "execution_count": 13,
   "metadata": {},
   "outputs": [
    {
     "name": "stdout",
     "output_type": "stream",
     "text": [
      "[[1.         0.56010315]\n",
      " [0.56010315 1.        ]]\n"
     ]
    }
   ],
   "source": [
    "#calculate the correaltion betweeb the initial and final totals for winners\n",
    "winner_corr=np.corrcoef(winner_initial,winner_score)\n",
    "print(winner_corr)"
   ]
  },
  {
   "cell_type": "code",
   "execution_count": 14,
   "metadata": {},
   "outputs": [
    {
     "name": "stdout",
     "output_type": "stream",
     "text": [
      "[[1.         0.56010315]\n",
      " [0.56010315 1.        ]]\n"
     ]
    }
   ],
   "source": [
    "#calculate the correaltion betweeb the initial and final totals for losers\n",
    "loser_corr=np.corrcoef(loser_initial,loser_score)\n",
    "print(loser_corr)"
   ]
  },
  {
   "cell_type": "code",
   "execution_count": 15,
   "metadata": {},
   "outputs": [
    {
     "name": "stdout",
     "output_type": "stream",
     "text": [
      "The correlation between the initial and final totals for winner is:0.5601031482331984\n",
      "The correlation between the initial and final totals for loser is:0.5601031482331984\n"
     ]
    }
   ],
   "source": [
    "print('The correlation between the initial and final totals for winner is:'+str(winner_corr[0][1]))\n",
    "print('The correlation between the initial and final totals for loser is:'+str(loser_corr[0][1]))"
   ]
  },
  {
   "cell_type": "markdown",
   "metadata": {},
   "source": [
    "The correlation between the initial and final totals for winners is same as that for losers. \n",
    "\n",
    "\n",
    "The initial totals affect final totals. Larger initial values, more likely to win."
   ]
  }
 ],
 "metadata": {
  "kernelspec": {
   "display_name": "Python 3",
   "language": "python",
   "name": "python3"
  },
  "language_info": {
   "codemirror_mode": {
    "name": "ipython",
    "version": 3
   },
   "file_extension": ".py",
   "mimetype": "text/x-python",
   "name": "python",
   "nbconvert_exporter": "python",
   "pygments_lexer": "ipython3",
   "version": "3.6.8"
  }
 },
 "nbformat": 4,
 "nbformat_minor": 2
}
